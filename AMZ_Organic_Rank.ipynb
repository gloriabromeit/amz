{
 "cells": [
  {
   "cell_type": "code",
   "execution_count": 1,
   "metadata": {},
   "outputs": [],
   "source": [
    "#Import dependencies\n",
    "import time\n",
    "from bs4 import BeautifulSoup\n",
    "from splinter import Browser\n",
    "import pandas as pd"
   ]
  },
  {
   "cell_type": "code",
   "execution_count": 2,
   "metadata": {},
   "outputs": [],
   "source": [
    "executable_path = {\"executable_path\": \"chromedriver.exe\"}\n",
    "browser = Browser(\"chrome\", **executable_path, headless=False)"
   ]
  },
  {
   "cell_type": "code",
   "execution_count": 3,
   "metadata": {},
   "outputs": [
    {
     "name": "stdout",
     "output_type": "stream",
     "text": [
      "Enter search term : paint sprayer\n"
     ]
    },
    {
     "data": {
      "text/plain": [
       "'https://www.amazon.com/s?k=paint sprayer&ref=nb_sb_noss_2'"
      ]
     },
     "execution_count": 3,
     "metadata": {},
     "output_type": "execute_result"
    }
   ],
   "source": [
    "st = input(\"Enter search term : \")\n",
    "\n",
    "amz_url = 'https://www.amazon.com/s?k=' + st + '&ref=nb_sb_noss_2'\n",
    "browser.visit(amz_url)\n",
    "time.sleep(1)\n",
    "amz_html = browser.html\n",
    "amz_soup = BeautifulSoup(amz_html, 'html.parser')\n",
    "amz_url"
   ]
  },
  {
   "cell_type": "code",
   "execution_count": 4,
   "metadata": {},
   "outputs": [
    {
     "name": "stdout",
     "output_type": "stream",
     "text": [
      "['picassoRedirect.html', 'picassoRedirect.html', 'picassoRedirect.html', 'B07H9SSMNL', 'B001JEPEES', 'B071X9FZ7R', 'B0026SR0FW', 'B07DLR5FK2', 'B0026SR0FW', 'B07KJ1MW3B', 'B07H9SSMNL', 'B0026SSW8G', 'B07RDPF814', 'B071X9FZ7R', 'B001JEPEES', 'B07BB2WJF4', 'B07JJQZ6CL', 'B00006FRPJ', 'B00FBP4QT0', 'B07PB7R6RH', 'B07DLLYWP9', 'B004Z2090U', 'B07RHHB2JC', 'picassoRedirect.html', 'picassoRedirect.html', 'picassoRedirect.html', 'picassoRedirect.html', 'B07THS326N', 'B07FTFY4RD', 'B07T4N7LG8', 'B008HP25IK', 'B07J5FJS79', 'B06WLPDR21', 'B00NHXEOCW', 'B00NHX6UWY', 'B00IA8EVIQ', 'B07RXBK3G5', 'B0000CBJ6R', 'B00ZLIV55A', 'B07GB6BC52', 'B07L684QQC', 'B07NQGKDZZ', 'B07KQCH386', 'B01L8LR7DM', 'B00W9M4XYQ', 'B07QZKB75R', 'B07MFVJHVG', 'B078VDX67M', 'B075KF1LBN', 'B07Q237VPG', 'B01G8SXNNS', 'B07ML2C42G', 'B07CQDYC1P', 'B00D4NPPQY', 'B01G8SXNO2', 'B072C4HZ9B', 'B07RDPJPPP', 'B07VJYL577', 'B07R5S351D', 'picassoRedirect.html', 'picassoRedirect.html', 'picassoRedirect.html', 'picassoRedirect.html', 'picassoRedirect.html']\n"
     ]
    }
   ],
   "source": [
    "asin_list = []\n",
    "# def get_header_content_pairs(amz_soup):\n",
    "asin_finder = amz_soup.find_all('a', class_ = 'a-link-normal a-text-normal')\n",
    "\n",
    "for a in asin_finder:\n",
    "    a = (a['href'])\n",
    "    af = (a.split('/',)[3]) \n",
    "    asin_list.append(af)\n",
    "\n",
    "print(asin_list)"
   ]
  },
  {
   "cell_type": "code",
   "execution_count": 22,
   "metadata": {},
   "outputs": [
    {
     "name": "stdout",
     "output_type": "stream",
     "text": [
      "Enter ASIN : B01G8SXNNS\n",
      "ASIN is number: 51\n",
      "{'2019-12-07 22:32:20.761423': '51'}\n"
     ]
    }
   ],
   "source": [
    "organic_rank = {}\n",
    "asin_input = input(\"Enter ASIN : \")\n",
    "\n",
    "if asin_input in asin_list:\n",
    "    org = (asin_list.index(asin_input) + 1)\n",
    "\n",
    "    print(\"ASIN is number: \" + str(org))\n",
    "else:\n",
    "    print(\"ASIN not on first page\")\n",
    "\n",
    "organic_rank.update({dt : str(org)})\n",
    "print(organic_rank)"
   ]
  },
  {
   "cell_type": "code",
   "execution_count": 14,
   "metadata": {},
   "outputs": [
    {
     "data": {
      "text/plain": [
       "'2019-12-07 22:32:20.761423'"
      ]
     },
     "execution_count": 14,
     "metadata": {},
     "output_type": "execute_result"
    }
   ],
   "source": [
    "import datetime\n",
    "dt = str(datetime.datetime.now())\n",
    "dt"
   ]
  },
  {
   "cell_type": "code",
   "execution_count": null,
   "metadata": {},
   "outputs": [],
   "source": []
  },
  {
   "cell_type": "code",
   "execution_count": null,
   "metadata": {},
   "outputs": [],
   "source": []
  },
  {
   "cell_type": "code",
   "execution_count": null,
   "metadata": {},
   "outputs": [],
   "source": []
  },
  {
   "cell_type": "code",
   "execution_count": null,
   "metadata": {},
   "outputs": [],
   "source": []
  },
  {
   "cell_type": "code",
   "execution_count": null,
   "metadata": {},
   "outputs": [],
   "source": []
  },
  {
   "cell_type": "code",
   "execution_count": null,
   "metadata": {},
   "outputs": [],
   "source": []
  }
 ],
 "metadata": {
  "kernelspec": {
   "display_name": "Python 3",
   "language": "python",
   "name": "python3"
  },
  "language_info": {
   "codemirror_mode": {
    "name": "ipython",
    "version": 3
   },
   "file_extension": ".py",
   "mimetype": "text/x-python",
   "name": "python",
   "nbconvert_exporter": "python",
   "pygments_lexer": "ipython3",
   "version": "3.7.3"
  }
 },
 "nbformat": 4,
 "nbformat_minor": 2
}
